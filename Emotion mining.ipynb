{
 "cells": [
  {
   "cell_type": "code",
   "execution_count": 68,
   "id": "0dbe8b78-f8b8-45e7-a8f2-d3c36a202a58",
   "metadata": {},
   "outputs": [],
   "source": [
    "import numpy as np\n",
    "import pandas as pd\n",
    "import matplotlib.pyplot as plt\n",
    "import seaborn as sns\n",
    "import neattext.functions as nfx\n",
    "from sklearn.utils import resample\n",
    "from sklearn.naive_bayes import MultinomialNB\n",
    "from sklearn.feature_extraction.text import CountVectorizer,TfidfVectorizer\n",
    "from sklearn.metrics import accuracy_score,confusion_matrix,classification_report,plot_confusion_matrix\n",
    "from sklearn.model_selection import train_test_split\n",
    "from sklearn.linear_model import LogisticRegression\n",
    "from sklearn.metrics import recall_score"
   ]
  },
  {
   "cell_type": "code",
   "execution_count": 26,
   "id": "4a053f98",
   "metadata": {},
   "outputs": [],
   "source": [
    "df=pd.read_csv('data/emotion_dataset_2.csv')"
   ]
  },
  {
   "cell_type": "code",
   "execution_count": 33,
   "id": "8cecd965",
   "metadata": {
    "tags": []
   },
   "outputs": [
    {
     "data": {
      "text/plain": [
       "(<AxesSubplot:xlabel='Emotion', ylabel='count'>,\n",
       " joy         11045\n",
       " sadness      6723\n",
       " neutral      6254\n",
       " fear         5410\n",
       " disgust      5356\n",
       " shame        5150\n",
       " anger        4297\n",
       " surprise     4062\n",
       " Name: Emotion, dtype: int64)"
      ]
     },
     "execution_count": 33,
     "metadata": {},
     "output_type": "execute_result"
    },
    {
     "data": {
      "image/png": "[encoded data removed]",
      "text/plain": [
       "<Figure size 720x720 with 1 Axes>"
      ]
     },
     "metadata": {
      "needs_background": "light"
     },
     "output_type": "display_data"
    }
   ],
   "source": [
    "plt.figure(figsize=(10,10))\n",
    "sns.countplot(x='Emotion',data=df),df['Emotion'].value_counts()"
   ]
  },
  {
   "cell_type": "code",
   "execution_count": 28,
   "id": "63d54849",
   "metadata": {
    "tags": []
   },
   "outputs": [],
   "source": [
    "shame=df[df.Emotion==\"shame\"]\n",
    "neutral=df[df.Emotion==\"neutral\"]\n",
    "disgust=df[df.Emotion==\"disgust\"]"
   ]
  },
  {
   "cell_type": "code",
   "execution_count": 29,
   "id": "410ac008-7274-4c7a-92e7-452d866aee7f",
   "metadata": {},
   "outputs": [],
   "source": [
    "disgustaug=resample(disgust,replace=True,n_samples=4500,random_state=0)\n",
    "neutralaug=resample(neutral,replace=True,n_samples=4000,random_state=0)\n",
    "shameaug = resample(shame,replace=True,n_samples=5000,random_state=0)"
   ]
  },
  {
   "cell_type": "code",
   "execution_count": 30,
   "id": "56b395b7-f720-4d9e-a9bb-46b5279100d5",
   "metadata": {},
   "outputs": [],
   "source": [
    "df = pd.concat([df, disgustaug])"
   ]
  },
  {
   "cell_type": "code",
   "execution_count": 31,
   "id": "4bbd24af-ddf5-4112-9f60-f466449a4d3f",
   "metadata": {},
   "outputs": [],
   "source": [
    "df = pd.concat([df, neutralaug])"
   ]
  },
  {
   "cell_type": "code",
   "execution_count": 32,
   "id": "ef6cc72b-d83d-41af-897b-83fb54e27b4e",
   "metadata": {},
   "outputs": [],
   "source": [
    "df = pd.concat([df, shameaug])"
   ]
  },
  {
   "cell_type": "code",
   "execution_count": 7,
   "id": "ec9edb5b",
   "metadata": {
    "tags": []
   },
   "outputs": [
    {
     "data": {
      "text/plain": [
       "Unnamed: 0      0\n",
       "Emotion         0\n",
       "Text            0\n",
       "Clean_Text    471\n",
       "dtype: int64"
      ]
     },
     "execution_count": 7,
     "metadata": {},
     "output_type": "execute_result"
    }
   ],
   "source": [
    "df.isnull().sum()"
   ]
  },
  {
   "cell_type": "code",
   "execution_count": 19,
   "id": "9c439e9b",
   "metadata": {},
   "outputs": [
    {
     "data": {
      "text/plain": [
       "0                                                   Why ? \n",
       "1          Sage Act upgrade on my to do list for tommorow.\n",
       "2        ON THE WAY TO MY HOMEGIRL BABY FUNERAL!!! MAN ...\n",
       "3         Such an eye ! The true hazel eye-and so brill...\n",
       "4        @Iluvmiasantos ugh babe.. hugggzzz for u .!  b...\n",
       "                               ...                        \n",
       "12649    y do females let ex's run them into a lonely a...\n",
       "30032    I'm pretty sure I'm the only weirdo left in th...\n",
       "22682    I can't take @carlybianchini disgusting conver...\n",
       "12374    A reader , disgruntled in large proportion , s...\n",
       "20394    That awkward moment when you walk into your li...\n",
       "Name: Text, Length: 48297, dtype: object"
      ]
     },
     "execution_count": 19,
     "metadata": {},
     "output_type": "execute_result"
    }
   ],
   "source": [
    "df['Text']"
   ]
  },
  {
   "cell_type": "code",
   "execution_count": 34,
   "id": "dff00543",
   "metadata": {},
   "outputs": [],
   "source": [
    "df['Clean_text']=df['Text'].apply(nfx.remove_stopwords)\n",
    "df['Clean_text']=df['Text'].apply(nfx.remove_userhandles)\n",
    "df['Clean_text']=df['Text'].apply(nfx.remove_punctuations)"
   ]
  },
  {
   "cell_type": "code",
   "execution_count": 14,
   "id": "eba96b44",
   "metadata": {},
   "outputs": [
    {
     "data": {
      "text/html": [
       "<div>\n",
       "<style scoped>\n",
       "    .dataframe tbody tr th:only-of-type {\n",
       "        vertical-align: middle;\n",
       "    }\n",
       "\n",
       "    .dataframe tbody tr th {\n",
       "        vertical-align: top;\n",
       "    }\n",
       "\n",
       "    .dataframe thead th {\n",
       "        text-align: right;\n",
       "    }\n",
       "</style>\n",
       "<table border=\"1\" class=\"dataframe\">\n",
       "  <thead>\n",
       "    <tr style=\"text-align: right;\">\n",
       "      <th></th>\n",
       "      <th>Unnamed: 0</th>\n",
       "      <th>Emotion</th>\n",
       "      <th>Text</th>\n",
       "      <th>Clean_Text</th>\n",
       "      <th>Clean_text</th>\n",
       "    </tr>\n",
       "  </thead>\n",
       "  <tbody>\n",
       "    <tr>\n",
       "      <th>0</th>\n",
       "      <td>0</td>\n",
       "      <td>neutral</td>\n",
       "      <td>Why ?</td>\n",
       "      <td>NaN</td>\n",
       "      <td>Why</td>\n",
       "    </tr>\n",
       "    <tr>\n",
       "      <th>1</th>\n",
       "      <td>1</td>\n",
       "      <td>joy</td>\n",
       "      <td>Sage Act upgrade on my to do list for tommorow.</td>\n",
       "      <td>Sage Act upgrade list tommorow</td>\n",
       "      <td>Sage Act upgrade on my to do list for tommorow</td>\n",
       "    </tr>\n",
       "    <tr>\n",
       "      <th>2</th>\n",
       "      <td>2</td>\n",
       "      <td>sadness</td>\n",
       "      <td>ON THE WAY TO MY HOMEGIRL BABY FUNERAL!!! MAN ...</td>\n",
       "      <td>WAY HOMEGIRL BABY FUNERAL MAN HATE FUNERALS SH...</td>\n",
       "      <td>ON THE WAY TO MY HOMEGIRL BABY FUNERAL MAN I H...</td>\n",
       "    </tr>\n",
       "    <tr>\n",
       "      <th>3</th>\n",
       "      <td>3</td>\n",
       "      <td>joy</td>\n",
       "      <td>Such an eye ! The true hazel eye-and so brill...</td>\n",
       "      <td>eye  true hazel eyeand brilliant  Regular feat...</td>\n",
       "      <td>Such an eye  The true hazel eyeand so brillia...</td>\n",
       "    </tr>\n",
       "    <tr>\n",
       "      <th>4</th>\n",
       "      <td>4</td>\n",
       "      <td>joy</td>\n",
       "      <td>@Iluvmiasantos ugh babe.. hugggzzz for u .!  b...</td>\n",
       "      <td>ugh babe hugggzzz u  babe naamazed nga ako e...</td>\n",
       "      <td>@Iluvmiasantos ugh babe hugggzzz for u   babe ...</td>\n",
       "    </tr>\n",
       "    <tr>\n",
       "      <th>...</th>\n",
       "      <td>...</td>\n",
       "      <td>...</td>\n",
       "      <td>...</td>\n",
       "      <td>...</td>\n",
       "      <td>...</td>\n",
       "    </tr>\n",
       "    <tr>\n",
       "      <th>34793</th>\n",
       "      <td>34791</td>\n",
       "      <td>shame</td>\n",
       "      <td>I am ashamed</td>\n",
       "      <td>NaN</td>\n",
       "      <td>I am ashamed</td>\n",
       "    </tr>\n",
       "    <tr>\n",
       "      <th>19526</th>\n",
       "      <td>19526</td>\n",
       "      <td>shame</td>\n",
       "      <td>Do n't be embarrassed about lying on a bed in ...</td>\n",
       "      <td>nt embarrassed lying bed shop try  sure test a...</td>\n",
       "      <td>Do nt be embarrassed about lying on a bed in t...</td>\n",
       "    </tr>\n",
       "    <tr>\n",
       "      <th>15702</th>\n",
       "      <td>15702</td>\n",
       "      <td>shame</td>\n",
       "      <td>` You 'll not be alone with him , Maggie , he ...</td>\n",
       "      <td>ll  Maggie  s got sister  case Mitch   Richie...</td>\n",
       "      <td>You ll not be alone with him  Maggie  he s go...</td>\n",
       "    </tr>\n",
       "    <tr>\n",
       "      <th>7414</th>\n",
       "      <td>7414</td>\n",
       "      <td>shame</td>\n",
       "      <td>On this occasion , satygraha involved imprison...</td>\n",
       "      <td>occasion  satygraha involved imprisonment thou...</td>\n",
       "      <td>On this occasion  satygraha involved imprisonm...</td>\n",
       "    </tr>\n",
       "    <tr>\n",
       "      <th>22756</th>\n",
       "      <td>22756</td>\n",
       "      <td>shame</td>\n",
       "      <td>Adolescents are going to be embarrassed and as...</td>\n",
       "      <td>Adolescents going embarrassed ashamed teacher ...</td>\n",
       "      <td>Adolescents are going to be embarrassed and as...</td>\n",
       "    </tr>\n",
       "  </tbody>\n",
       "</table>\n",
       "<p>48297 rows × 5 columns</p>\n",
       "</div>"
      ],
      "text/plain": [
       "       Unnamed: 0  Emotion                                               Text  \\\n",
       "0               0  neutral                                             Why ?    \n",
       "1               1      joy    Sage Act upgrade on my to do list for tommorow.   \n",
       "2               2  sadness  ON THE WAY TO MY HOMEGIRL BABY FUNERAL!!! MAN ...   \n",
       "3               3      joy   Such an eye ! The true hazel eye-and so brill...   \n",
       "4               4      joy  @Iluvmiasantos ugh babe.. hugggzzz for u .!  b...   \n",
       "...           ...      ...                                                ...   \n",
       "34793       34791    shame                                       I am ashamed   \n",
       "19526       19526    shame  Do n't be embarrassed about lying on a bed in ...   \n",
       "15702       15702    shame  ` You 'll not be alone with him , Maggie , he ...   \n",
       "7414         7414    shame  On this occasion , satygraha involved imprison...   \n",
       "22756       22756    shame  Adolescents are going to be embarrassed and as...   \n",
       "\n",
       "                                              Clean_Text  \\\n",
       "0                                                    NaN   \n",
       "1                         Sage Act upgrade list tommorow   \n",
       "2      WAY HOMEGIRL BABY FUNERAL MAN HATE FUNERALS SH...   \n",
       "3      eye  true hazel eyeand brilliant  Regular feat...   \n",
       "4        ugh babe hugggzzz u  babe naamazed nga ako e...   \n",
       "...                                                  ...   \n",
       "34793                                                NaN   \n",
       "19526  nt embarrassed lying bed shop try  sure test a...   \n",
       "15702   ll  Maggie  s got sister  case Mitch   Richie...   \n",
       "7414   occasion  satygraha involved imprisonment thou...   \n",
       "22756  Adolescents going embarrassed ashamed teacher ...   \n",
       "\n",
       "                                              Clean_text  \n",
       "0                                                  Why    \n",
       "1         Sage Act upgrade on my to do list for tommorow  \n",
       "2      ON THE WAY TO MY HOMEGIRL BABY FUNERAL MAN I H...  \n",
       "3       Such an eye  The true hazel eyeand so brillia...  \n",
       "4      @Iluvmiasantos ugh babe hugggzzz for u   babe ...  \n",
       "...                                                  ...  \n",
       "34793                                       I am ashamed  \n",
       "19526  Do nt be embarrassed about lying on a bed in t...  \n",
       "15702   You ll not be alone with him  Maggie  he s go...  \n",
       "7414   On this occasion  satygraha involved imprisonm...  \n",
       "22756  Adolescents are going to be embarrassed and as...  \n",
       "\n",
       "[48297 rows x 5 columns]"
      ]
     },
     "execution_count": 14,
     "metadata": {},
     "output_type": "execute_result"
    }
   ],
   "source": [
    "df"
   ]
  },
  {
   "cell_type": "code",
   "execution_count": 35,
   "id": "da961979-4209-4d77-8f51-be237fba59d2",
   "metadata": {},
   "outputs": [],
   "source": [
    "x=df['Clean_text']\n",
    "y=df['Emotion']"
   ]
  },
  {
   "cell_type": "code",
   "execution_count": 36,
   "id": "c029a079-f748-4084-bb62-8be647f40ddb",
   "metadata": {
    "tags": []
   },
   "outputs": [],
   "source": [
    "cv = CountVectorizer()\n",
    "X=cv.fit_transform(x)"
   ]
  },
  {
   "cell_type": "code",
   "execution_count": 37,
   "id": "0e72e645-41e9-45e6-96cd-23be5c516ba6",
   "metadata": {},
   "outputs": [],
   "source": [
    "X_train,X_test,y_train,y_test=train_test_split(X,y,test_size=0.3,random_state=42)"
   ]
  },
  {
   "cell_type": "code",
   "execution_count": 38,
   "id": "8f649b8a-3f58-4a9b-b00f-e8494c3372cc",
   "metadata": {},
   "outputs": [
    {
     "data": {
      "text/plain": [
       "MultinomialNB()"
      ]
     },
     "execution_count": 38,
     "metadata": {},
     "output_type": "execute_result"
    }
   ],
   "source": [
    "model=MultinomialNB()\n",
    "model.fit(X_train,y_train)"
   ]
  },
  {
   "cell_type": "code",
   "execution_count": 126,
   "id": "25222bb1-cc3d-47c9-b97b-ae086ae2db33",
   "metadata": {},
   "outputs": [],
   "source": [
    "def predictedinfo(text,model):\n",
    "    vect = cv.transform(text).toarray()\n",
    "    pred = model.predict(vect)\n",
    "    prob = model.predict_proba(vect)\n",
    "    predp=dict(zip(model.classes_,prob[0]))\n",
    "    print(\"text recieved:{},predicted emotion:{} ,score{}\".format(text,pred[0],np.max(prob)))\n",
    "    return predp"
   ]
  },
  {
   "cell_type": "code",
   "execution_count": null,
   "id": "36cde708-d0b7-4897-9fe9-0649525a1196",
   "metadata": {},
   "outputs": [],
   "source": [
    "tenc=[\"\"]"
   ]
  },
  {
   "cell_type": "code",
   "execution_count": null,
   "id": "97dc51c1-a80d-49d1-862b-01f367a03071",
   "metadata": {},
   "outputs": [],
   "source": [
    "predictedinfo(tenc,model)"
   ]
  },
  {
   "cell_type": "code",
   "execution_count": 41,
   "id": "5364a03e-258e-4628-8e49-b8503cf5bff4",
   "metadata": {},
   "outputs": [],
   "source": [
    "linmodel=LogisticRegression()"
   ]
  },
  {
   "cell_type": "code",
   "execution_count": null,
   "id": "38e0689f-2e4f-428d-b680-7e04c35491d3",
   "metadata": {},
   "outputs": [],
   "source": [
    "linmodel.fit(X_train,y_train)"
   ]
  },
  {
   "cell_type": "code",
   "execution_count": 43,
   "id": "f2e86aa8-dca8-4013-b4fc-d55166196bd0",
   "metadata": {},
   "outputs": [
    {
     "data": {
      "text/plain": [
       "0.7425120772946859"
      ]
     },
     "execution_count": 43,
     "metadata": {},
     "output_type": "execute_result"
    }
   ],
   "source": [
    "linmodel.score(X_test,y_test)"
   ]
  },
  {
   "cell_type": "code",
   "execution_count": 131,
   "id": "f012f0fb-e6f7-4adf-b4e5-70c0bc362bc5",
   "metadata": {},
   "outputs": [],
   "source": [
    "tenc=[\"\"]"
   ]
  },
  {
   "cell_type": "markdown",
   "id": "ad966608-f608-4f43-a6c5-c48f8391d3ad",
   "metadata": {},
   "source": [
    "Naive base Metrics"
   ]
  },
  {
   "cell_type": "code",
   "execution_count": null,
   "id": "535de7a6-10e4-4a51-9b7b-ea66c209e90c",
   "metadata": {},
   "outputs": [],
   "source": [
    "predictnaive=model.predict(X_test)"
   ]
  },
  {
   "cell_type": "code",
   "execution_count": 79,
   "id": "ae254c16-5376-4ce2-8c5c-e54506d8d6f4",
   "metadata": {},
   "outputs": [
    {
     "data": {
      "text/plain": [
       "0.62433859773682"
      ]
     },
     "execution_count": 79,
     "metadata": {},
     "output_type": "execute_result"
    }
   ],
   "source": [
    "recall_score(y_test,predictnaive,average='macro')"
   ]
  },
  {
   "cell_type": "code",
   "execution_count": 78,
   "id": "2087a86e-ac83-4522-97ff-7ae3d581220f",
   "metadata": {},
   "outputs": [
    {
     "data": {
      "text/plain": [
       "0.6596273291925466"
      ]
     },
     "execution_count": 78,
     "metadata": {},
     "output_type": "execute_result"
    }
   ],
   "source": [
    "model.score(X_test,y_test)"
   ]
  },
  {
   "cell_type": "code",
   "execution_count": 83,
   "id": "bcaabf6e-0389-4260-a605-23ec3dadd351",
   "metadata": {},
   "outputs": [
    {
     "data": {
      "text/plain": [
       "<sklearn.metrics._plot.confusion_matrix.ConfusionMatrixDisplay at 0x274f3ddd0d0>"
      ]
     },
     "execution_count": 83,
     "metadata": {},
     "output_type": "execute_result"
    },
    {
     "data": {
      "image/png": "[encoded data removed]",
      "text/plain": [
       "<Figure size 432x288 with 2 Axes>"
      ]
     },
     "metadata": {
      "needs_background": "light"
     },
     "output_type": "display_data"
    }
   ],
   "source": [
    "plot_confusion_matrix(model,X_test,y_test)"
   ]
  },
  {
   "cell_type": "markdown",
   "id": "8f87a819-bfa8-42ba-b8ae-7afc54a57e1b",
   "metadata": {},
   "source": [
    "LR Metrics"
   ]
  },
  {
   "cell_type": "code",
   "execution_count": null,
   "id": "83d531e2-8bb8-4c0b-9d77-da16335cbb97",
   "metadata": {},
   "outputs": [],
   "source": [
    "predictlen=linmodel.predict(X_test)"
   ]
  },
  {
   "cell_type": "code",
   "execution_count": 81,
   "id": "fdb1bf67-062e-45da-8c7b-719392dd908f",
   "metadata": {},
   "outputs": [
    {
     "data": {
      "text/plain": [
       "0.7425120772946859"
      ]
     },
     "execution_count": 81,
     "metadata": {},
     "output_type": "execute_result"
    }
   ],
   "source": [
    "recall_score(y_test,predictlen,average='micro')"
   ]
  },
  {
   "cell_type": "code",
   "execution_count": 82,
   "id": "6bddf0a1-6b98-4555-9f0a-0a428f6c6451",
   "metadata": {},
   "outputs": [
    {
     "data": {
      "text/plain": [
       "0.7425120772946859"
      ]
     },
     "execution_count": 82,
     "metadata": {},
     "output_type": "execute_result"
    }
   ],
   "source": [
    "linmodel.score(X_test,y_test)"
   ]
  },
  {
   "cell_type": "code",
   "execution_count": 84,
   "id": "f02a5ad9-df4b-4692-9123-877c98105dc6",
   "metadata": {},
   "outputs": [
    {
     "data": {
      "text/plain": [
       "<sklearn.metrics._plot.confusion_matrix.ConfusionMatrixDisplay at 0x274f218ed00>"
      ]
     },
     "execution_count": 84,
     "metadata": {},
     "output_type": "execute_result"
    },
    {
     "data": {
      "image/png": "[encoded data removed]",
      "text/plain": [
       "<Figure size 432x288 with 2 Axes>"
      ]
     },
     "metadata": {
      "needs_background": "light"
     },
     "output_type": "display_data"
    }
   ],
   "source": [
    "plot_confusion_matrix(linmodel,X_test,y_test)"
   ]
  }
 ],
 "metadata": {
  "kernelspec": {
   "display_name": "Python 3 (ipykernel)",
   "language": "python",
   "name": "python3"
  },
  "language_info": {
   "codemirror_mode": {
    "name": "ipython",
    "version": 3
   },
   "file_extension": ".py",
   "mimetype": "text/x-python",
   "name": "python",
   "nbconvert_exporter": "python",
   "pygments_lexer": "ipython3",
   "version": "3.9.7"
  }
 },
 "nbformat": 4,
 "nbformat_minor": 5
}
